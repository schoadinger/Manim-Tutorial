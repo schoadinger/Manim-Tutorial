{
 "cells": [
  {
   "cell_type": "markdown",
   "metadata": {},
   "source": [
    "# Chapter 1 Exercise Solutions"
   ]
  },
  {
   "cell_type": "code",
   "execution_count": null,
   "metadata": {},
   "outputs": [],
   "source": [
    "from manim import *"
   ]
  },
  {
   "cell_type": "markdown",
   "metadata": {},
   "source": [
    "## Exercise 1"
   ]
  },
  {
   "cell_type": "code",
   "execution_count": null,
   "metadata": {},
   "outputs": [],
   "source": [
    "%%manim -qm Exercise1Sln\n",
    "\n",
    "class Exercise1Sln(Scene):\n",
    "    def construct(self):\n",
    "        text_1 = Tex(r\"My favorite formula is $ e^{i\\pi} + 1 = 0$\")\n",
    "        \n",
    "        self.play(Write(text_1))\n",
    "        self.wait()"
   ]
  },
  {
   "cell_type": "markdown",
   "metadata": {},
   "source": [
    "## Exercise 2"
   ]
  },
  {
   "cell_type": "code",
   "execution_count": null,
   "metadata": {},
   "outputs": [],
   "source": [
    "%%manim -qm Exercise2Sln\n",
    "\n",
    "class Exercise2Sln(Scene):\n",
    "    def construct(self):\n",
    "        title = Tex('This is the title', color = BLUE, font_size = 100) \n",
    "        self.play(Write(title), run_time = 2)\n",
    "        self.play(title.animate.to_edge(DOWN + RIGHT, buff=0.5))\n",
    "        self.wait()"
   ]
  },
  {
   "cell_type": "markdown",
   "metadata": {},
   "source": [
    "## Exercise 3"
   ]
  },
  {
   "cell_type": "code",
   "execution_count": null,
   "metadata": {},
   "outputs": [],
   "source": [
    "%%manim -qm Exercise3Sln\n",
    "\n",
    "class Exercise3Sln(Scene):\n",
    "    def construct(self):\n",
    "        circle_red = Circle(color=RED)\n",
    "        circle_green = Circle(color=GREEN)\n",
    "        circle_blue = Circle(color=BLUE)\n",
    "\n",
    "        circle_red.shift(LEFT)\n",
    "        circle_blue.shift(RIGHT)\n",
    "        \n",
    "        gr = VGroup(circle_red)\n",
    "        gr2 = VGroup(circle_green)\n",
    "        gr3 = VGroup(circle_blue)\n",
    "        self.add(gr,gr2,gr3)\n",
    "        self.wait()\n",
    "        gr = gr + gr2 + gr3\n",
    "        \n",
    "        self.play(\n",
    "            gr.animate.shift(DOWN),\n",
    "        )\n",
    "        gr = gr - gr2 - gr3\n",
    "\n",
    "        self.play(\n",
    "            gr.animate.shift(LEFT),\n",
    "            gr2.animate.shift(UP),\n",
    "            gr3.animate.shift(RIGHT)\n",
    "        )"
   ]
  },
  {
   "cell_type": "markdown",
   "metadata": {},
   "source": [
    "## Exercise 4"
   ]
  },
  {
   "cell_type": "code",
   "execution_count": null,
   "metadata": {},
   "outputs": [],
   "source": [
    "from GlyphMapDemo import *"
   ]
  },
  {
   "cell_type": "code",
   "execution_count": null,
   "metadata": {},
   "outputs": [],
   "source": [
    "%%manim -qm Exercise4Sln\n",
    "\n",
    "class Exercise4Sln(Scene):\n",
    "    def construct(self):\n",
    "        exps = [\n",
    "            MathTex('ax + b = 0'),\n",
    "            MathTex('ax = -b'),\n",
    "            MathTex('x = - {b \\\\over a}')\n",
    "        ]\n",
    "        self.play(Write(exps[0]))\n",
    "        self.wait()\n",
    "        self.play(TransformByGlyphMap(exps[0], exps[1], # subtract b\n",
    "\t\t\t([3], [4]),\n",
    "            ([2], [3]),\n",
    "            ([5], [])\n",
    "\t\t))\n",
    "        self.wait()\n",
    "        self.play(TransformByGlyphMap(exps[1], exps[2], # devided by a\n",
    "\t\t\t([0], [5]),\n",
    "\t\t\t([], [4])\n",
    "\t\t))\n",
    "        self.wait()\n",
    "        self.play(Circumscribe(exps[-1]))"
   ]
  },
  {
   "cell_type": "markdown",
   "metadata": {},
   "source": [
    "## Exercise 5"
   ]
  },
  {
   "cell_type": "code",
   "execution_count": null,
   "metadata": {},
   "outputs": [],
   "source": [
    "%%manim -qm Exercise5Sln\n",
    "\n",
    "class Exercise5Sln(Scene):\n",
    "\tdef construct(self):\n",
    "\t\texps = [\n",
    "\t\t\tMathTex(\"x^{2} + 3 = 7\"),\n",
    "\t\t\tMathTex(\"x^{2} = 7 - 3\"),\n",
    "\t\t\tMathTex(\"x^{2} = 4\"),\n",
    "\t\t\tMathTex(\"x = \\\\pm 2\")\n",
    "\t\t ]\n",
    "\t\tself.add(exps[0])\n",
    "\t\tself.play(TransformByGlyphMap(exps[0],exps[1],\n",
    "\t\t\t([2], [4]),\n",
    "\t\t\t([3], [5])\n",
    "\t\t))\n",
    "\t\tself.wait()\n",
    "\t\tself.play(TransformByGlyphMap(exps[1],exps[2],\n",
    "\t\t\t([3,4,5], [3])\n",
    "\t\t))\n",
    "\t\tself.wait()\n",
    "\t\tself.play(TransformByGlyphMap(exps[2],exps[3],\n",
    "\t\t\t([1], [2]),\n",
    "\t\t\t([3], [3])\n",
    "\t\t))\n",
    "\t\tself.wait()\n",
    "\t\tself.play(Circumscribe(exps[-1]))"
   ]
  }
 ],
 "metadata": {
  "kernelspec": {
   "display_name": "base",
   "language": "python",
   "name": "python3"
  },
  "language_info": {
   "codemirror_mode": {
    "name": "ipython",
    "version": 3
   },
   "file_extension": ".py",
   "mimetype": "text/x-python",
   "name": "python",
   "nbconvert_exporter": "python",
   "pygments_lexer": "ipython3",
   "version": "3.9.13"
  }
 },
 "nbformat": 4,
 "nbformat_minor": 2
}
