{
 "cells": [
  {
   "cell_type": "markdown",
   "metadata": {},
   "source": [
    "# Chapter 2 Exercise Solutions"
   ]
  },
  {
   "cell_type": "code",
   "execution_count": null,
   "metadata": {},
   "outputs": [],
   "source": [
    "from manim import *"
   ]
  },
  {
   "cell_type": "markdown",
   "metadata": {},
   "source": [
    "# Exercise 1"
   ]
  },
  {
   "cell_type": "code",
   "execution_count": null,
   "metadata": {},
   "outputs": [],
   "source": [
    "%%manim -qm Vectors\n",
    "\n",
    "class Vectors(VectorScene):\n",
    "    def construct(self):\n",
    "        self.add_plane(animate = True).add_coordinates()\n",
    "        self.wait()\n",
    "        \n",
    "        v1 = Vector([1, 2], color=YELLOW)\n",
    "        v2 = Vector([3, -1], color=RED)\n",
    "        v3 = Vector([v1.get_vector()[0] + v2.get_vector()[0], v1.get_vector()[1] + v2.get_vector()[1]], color=BLUE) \n",
    "        \n",
    "        v1_label = MathTex(\"\\\\vec{u}\").next_to(v1, LEFT, buff = 0.0001)\n",
    "        v2_label = MathTex(\"\\\\vec{v}\").next_to(v2, DOWN, buff = 0.0001)\n",
    "        v3_label = MathTex(\"\\\\vec{u} + \\\\vec{v}\").next_to(v3, UP, buff = 0.0001)\n",
    "\n",
    "        self.add_vector(v1)\n",
    "        self.play(Create(v1_label))\n",
    "        self.wait()\n",
    "\n",
    "        self.add_vector(v2)\n",
    "        self.play(Create(v2_label))\n",
    "        self.wait()\n",
    "        \n",
    "        self.play(\n",
    "          v1.animate.shift(v2.get_vector()[0]*RIGHT + v2.get_vector()[1]*UP),\n",
    "          v1_label.animate.shift(v2.get_vector()[0]*RIGHT + v2.get_vector()[1]*UP)\n",
    "        )\n",
    "        self.wait()\n",
    "\n",
    "        self.add_vector(v3)\n",
    "        self.wait()\n",
    "        self.play(Create(v3_label))\n",
    "        self.wait()"
   ]
  },
  {
   "cell_type": "markdown",
   "metadata": {},
   "source": [
    "# Exercise 2"
   ]
  },
  {
   "cell_type": "code",
   "execution_count": null,
   "metadata": {},
   "outputs": [],
   "source": [
    "from GlyphMapDemo import *"
   ]
  },
  {
   "cell_type": "code",
   "execution_count": null,
   "metadata": {},
   "outputs": [],
   "source": [
    "%%manim -qm functiongraph\n",
    "\n",
    "class functiongraph(Scene):\n",
    "    def construct(self):\n",
    "\n",
    "        func1 = lambda x: x**2 - 2*x + 1\n",
    "        func2 = lambda x: abs(x)**2 - 2*abs(x) + 1\n",
    "        func1_label = MathTex(\"f(x) = x^2 - 2x + 1\")\n",
    "        func2_label = MathTex(\"f(x) = |x|^2 - 2|x| + 1\")\n",
    "\n",
    "        axes = Axes(\n",
    "            x_range=[-3,3,1],\n",
    "            y_range=[-2, 2, 1],\n",
    "            axis_config={\"color\": BLUE},\n",
    "            x_axis_config={\n",
    "                \"numbers_to_include\": [-3,-2,-1,0,1,2,3],\n",
    "            },\n",
    "            y_axis_config={\n",
    "                \"numbers_to_include\": [-2, -1, 0, 1, 2],\n",
    "            }\n",
    "        )\n",
    "        axes_labels = axes.get_axis_labels()\n",
    "\n",
    "        graph1 = axes.plot(func1)\n",
    "        graph2 = axes.plot(func2)\n",
    "\n",
    "        func1_label.shift(DOWN*2 + RIGHT*3)\n",
    "        func2_label.shift(DOWN*2 + RIGHT*3)\n",
    "\n",
    "        self.play(Create(axes), Write(axes_labels))\n",
    "        self.play(Create(graph1), Write(func1_label), run_time=3)\n",
    "        self.wait()\n",
    "\n",
    "        self.play(\n",
    "            Transform(graph1, graph2),\n",
    "            TransformByGlyphMap(func1_label, func2_label,\n",
    "                ([],[5,7,11,13]),\n",
    "            )\n",
    "            ) \n",
    "        self.wait()"
   ]
  }
 ],
 "metadata": {
  "kernelspec": {
   "display_name": "base",
   "language": "python",
   "name": "python3"
  },
  "language_info": {
   "codemirror_mode": {
    "name": "ipython",
    "version": 3
   },
   "file_extension": ".py",
   "mimetype": "text/x-python",
   "name": "python",
   "nbconvert_exporter": "python",
   "pygments_lexer": "ipython3",
   "version": "2022.10.-1"
  }
 },
 "nbformat": 4,
 "nbformat_minor": 2
}
