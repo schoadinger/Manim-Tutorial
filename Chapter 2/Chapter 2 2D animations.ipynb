{
 "cells": [
  {
   "cell_type": "markdown",
   "metadata": {},
   "source": [
    "# Chapter 2: 2D animations"
   ]
  },
  {
   "cell_type": "markdown",
   "metadata": {},
   "source": [
    "## 2.1 Moving Objects and `lambda`\n",
    "\n",
    "Creating multiple 2D animations may be Manim's greatest strength. It is where Manim can perform huge amount of effects, without being too time consuming. As usual, we should start with importing the library."
   ]
  },
  {
   "cell_type": "code",
   "execution_count": null,
   "metadata": {},
   "outputs": [],
   "source": [
    "from manim import*"
   ]
  },
  {
   "cell_type": "markdown",
   "metadata": {},
   "source": [
    "The process is similar to text animations, we need to first define the objects that we want to add to the scene, then draw then to the 2D scene, and, possibly, make transformations to them. Let us start with a simple example."
   ]
  },
  {
   "cell_type": "code",
   "execution_count": null,
   "metadata": {},
   "outputs": [],
   "source": [
    "%%manim -qm UseRotate\n",
    "\n",
    "class UseRotate(Scene):\n",
    "    def construct(self):\n",
    "        square1 = Square(side_length=0.5).shift(UP * 2)\n",
    "        square2 = Square(side_length=0.5)\n",
    "        gr = VGroup(square1, square2)\n",
    "        \n",
    "        self.play(\n",
    "            Rotate(\n",
    "                gr,\n",
    "                angle=2*PI,\n",
    "                about_point=ORIGIN,\n",
    "                rate_func=linear,\n",
    "            ),\n",
    "            )"
   ]
  },
  {
   "cell_type": "markdown",
   "metadata": {},
   "source": [
    "Here we defined two tiny `Square` objects, then we grouped them together to a `VGroup` (we learnt this in chp1), finally we used the `Rotate` method to rotate them with respect to the center of the scene.\n",
    "\n",
    "Note that the `rate_func` argument can be changed to control the speed of rotation with run time. For instance, we can make the Mobjects rotating faster and faster by changing the `rate_func` to a quadratic function. In python, we often define a function using `lambda`, which is used in the following form.\n",
    "```py\n",
    "function_name = lambda argument: expression on the argument\n",
    "```\n",
    "As an example,\n",
    "```py\n",
    "func1 = lambda x: x**2 + 2*x + 1\n",
    "```\n",
    "which defines a quadratic function, $x^2 + 2x + 1$, another example is,\n",
    "```py\n",
    "func2 = lambda y,z: y**2 + z**2\n",
    "```\n",
    "which defines a multivariable function, $y^2 + z^2$. Note that we will not use more than one variables in this section since we are talking about 2D animations.\n",
    "\n",
    "Now we can change the `rate_func` argument to a quadratic function."
   ]
  },
  {
   "cell_type": "code",
   "execution_count": null,
   "metadata": {},
   "outputs": [],
   "source": [
    "%%manim -qm UseRotate\n",
    "\n",
    "class UseRotate(Scene):\n",
    "    def construct(self):\n",
    "        square1 = Square(side_length=0.5).shift(UP * 2)\n",
    "        square2 = Square(side_length=0.5)\n",
    "        gr = VGroup(square1, square2)\n",
    "        self.play(\n",
    "            Rotate(\n",
    "                gr,\n",
    "                angle = 6*PI,\n",
    "                about_point = ORIGIN,\n",
    "                rate_func = lambda t: t**2,\n",
    "                run_time = 3\n",
    "            ),\n",
    "            )"
   ]
  },
  {
   "cell_type": "markdown",
   "metadata": {},
   "source": [
    "Another frequently used animation is translating the Mobjects using the `animate.shift` method. It include one argument, that is to indicate the units of direction that you want to move. For instance, LEFT*2 + UP represents moving the Mobject STRAIGHT to the new position which is one unit left and two units upper from the original position (NOT first moving left then moving upwards!). Here is an example of translating the mobjects."
   ]
  },
  {
   "cell_type": "code",
   "execution_count": null,
   "metadata": {},
   "outputs": [],
   "source": [
    "%%manim -qm Translating\n",
    "\n",
    "class Translating(Scene):\n",
    "    def construct(self):\n",
    "        circle1 = Circle(radius=0.5)\n",
    "        circle2 = Circle(radius=0.5)\n",
    "        circle3 = Circle(radius=0.5)\n",
    "\n",
    "        self.play(\n",
    "            Create(circle1),\n",
    "            Create(circle2),\n",
    "            Create(circle3)\n",
    "        )\n",
    "        self.wait()\n",
    "\n",
    "        self.play(\n",
    "            circle2.animate.shift(UP*2+RIGHT*2),\n",
    "            circle3.animate.shift(DOWN*2+LEFT*2)\n",
    "            )\n",
    "        self.wait()"
   ]
  },
  {
   "cell_type": "markdown",
   "metadata": {},
   "source": [
    "The `Rotate` and `animate.shift` methods are extremely useful, especially when making animations about `vectors`, since rotation and translation carry important meanings in vector spaces. However, if we would like to make animations about vectors, we have to make it under a different `Scene` type."
   ]
  },
  {
   "cell_type": "markdown",
   "metadata": {},
   "source": [
    "## 2.2 VectorScene\n",
    "\n",
    "The exmaple above is a normal case of producing a 2D animation. Some specific mathematical objects require special operations, and we should perform their animations under a specific `Scene` type. `VectorScene` is an example.\n",
    "\n",
    "### 2.2.1 Coordinate Plane\n",
    "When we are dealing with vectors, we usually want to have a coordinate plane as a reference frame. Therefore, our first step is to add coordinates to the scene."
   ]
  },
  {
   "cell_type": "code",
   "execution_count": null,
   "metadata": {},
   "outputs": [],
   "source": [
    "%%manim -qm Vectors\n",
    "\n",
    "class Vectors(VectorScene):\n",
    "    def construct(self):\n",
    "        self.add_plane(animate = True).add_coordinates()\n",
    "        self.wait()"
   ]
  },
  {
   "cell_type": "markdown",
   "metadata": {},
   "source": [
    "Here we used `add_plane` method to add the blocks to the background, and `add_coordinates` add the coordinate system to the scene. You can try to delete the `add_coordinates` method to see what happens.\n",
    "\n",
    "Now, with such coordinate plane, we can define vectors be indicating their coordinates.\n",
    "### 2.2.2 Defining and Drawing Vectors"
   ]
  },
  {
   "cell_type": "code",
   "execution_count": null,
   "metadata": {},
   "outputs": [],
   "source": [
    "%%manim -qm Vectors\n",
    "\n",
    "class Vectors(VectorScene):\n",
    "    def construct(self):\n",
    "        self.add_plane(animate = True).add_coordinates()\n",
    "        self.wait()\n",
    "        \n",
    "        v1 = Vector([1, 2], color=YELLOW)\n",
    "        v2 = Vector([3, -1], color=RED)\n",
    "\n",
    "        self.play(Create(v1))\n",
    "        self.play(Create(v2))"
   ]
  },
  {
   "cell_type": "markdown",
   "metadata": {},
   "source": [
    "Note that here we are still using the `Create` method to add the vectors to the scene. Actually, under `VectorScene`, we have better method that can make the vectors 'grow' from the origin, the `add_vector` method."
   ]
  },
  {
   "cell_type": "code",
   "execution_count": null,
   "metadata": {},
   "outputs": [],
   "source": [
    "%%manim -qm Vectors\n",
    "\n",
    "class Vectors(VectorScene):\n",
    "    def construct(self):\n",
    "        self.add_plane(animate = True).add_coordinates()\n",
    "        self.wait()\n",
    "        \n",
    "        v1 = Vector([1, 2], color=YELLOW)\n",
    "        v2 = Vector([3, -1], color=RED)\n",
    "\n",
    "        self.add_vector(v1)\n",
    "        self.add_vector(v2)"
   ]
  },
  {
   "cell_type": "markdown",
   "metadata": {},
   "source": [
    "### 2.2.3 Labeling Vectors\n",
    "\n",
    "Though we give different colors to them, it is always better to give them labels to identify them. There are two ways that we can give labels to the vectors.\n",
    "1. Creating new `MathTex` Mobjects, and place them next to the vectors.\n",
    "2. Using the `label_vector` method.\n",
    "Note that both methods are useful under specific circumstances, we first take a look at the second method.\n",
    "\n",
    "The greatest advantage of the `label_vector` method is its simplicity. You only have to indicate which vector you would like to label, then name the label."
   ]
  },
  {
   "cell_type": "code",
   "execution_count": null,
   "metadata": {},
   "outputs": [],
   "source": [
    "%%manim -qm Vectors\n",
    "\n",
    "class Vectors(VectorScene):\n",
    "    def construct(self):\n",
    "        self.add_plane(animate = True).add_coordinates()\n",
    "        self.wait()\n",
    "        \n",
    "        v1 = Vector([1, 2], color=YELLOW)\n",
    "        v2 = Vector([3, -1], color=RED)\n",
    "\n",
    "        self.add_vector(v1)\n",
    "        self.add_vector(v2)\n",
    "        self.wait()\n",
    "        self.label_vector(v1, '\\\\vec{v_1}')\n",
    "        self.label_vector(v2, '\\\\vec{v_2}')\n",
    "        self.wait()"
   ]
  },
  {
   "cell_type": "markdown",
   "metadata": {},
   "source": [
    "But simplicity means low operability. The biggest drawback of this method is that if we translate the vector, the label will not follow the vector, but stay at the original position."
   ]
  },
  {
   "cell_type": "code",
   "execution_count": null,
   "metadata": {},
   "outputs": [],
   "source": [
    "%%manim -qm Vectors\n",
    "\n",
    "class Vectors(VectorScene):\n",
    "    def construct(self):\n",
    "        self.add_plane(animate = True).add_coordinates()\n",
    "        self.wait()\n",
    "\n",
    "        v1 = Vector([1, 2], color=YELLOW)\n",
    "        self.add_vector(v1)\n",
    "        self.wait()\n",
    "        \n",
    "        self.label_vector(v1, '\\\\vec{v_1}')\n",
    "        self.wait()\n",
    "\n",
    "        self.play(v1.animate.shift(2*RIGHT + 1*UP))\n",
    "        self.wait()"
   ]
  },
  {
   "cell_type": "markdown",
   "metadata": {},
   "source": [
    "Here we used `animate.shift` method to translate v1. We have to indicate the moving direction of v1 in the argument bracket.\n",
    "\n",
    "In some circumstances (like right now), it is not what we expected, hence we need to use the first method, that is, defining the labels seperately and create them on the scene."
   ]
  },
  {
   "cell_type": "code",
   "execution_count": null,
   "metadata": {},
   "outputs": [],
   "source": [
    "%%manim -qm Vectors\n",
    "\n",
    "class Vectors(VectorScene):\n",
    "    def construct(self):\n",
    "        self.add_plane(animate = True).add_coordinates()\n",
    "        self.wait()\n",
    "        \n",
    "        v1 = Vector([1, 2], color=YELLOW)\n",
    "        v1_label = MathTex(\"\\\\vec{v_1}\").next_to(v1, LEFT, buff = 0.0001)\n",
    "        \n",
    "        self.add_vector(v1)\n",
    "        self.play(Create(v1_label))\n",
    "        self.wait()\n"
   ]
  },
  {
   "cell_type": "markdown",
   "metadata": {},
   "source": [
    "Here we defined a `MathTex` Mobject called v1_label, and placed it next to the vector on the left. Note that the `buff` argument is used to control the distance between the label and the object.\n",
    "\n",
    "It is not that now the label will automatically follow the vector's movement, but we can make it do the same movement with the vector by recalling the `VGroup` we learnt in the previous chapter."
   ]
  },
  {
   "cell_type": "code",
   "execution_count": null,
   "metadata": {},
   "outputs": [],
   "source": [
    "%%manim -qm Vectors\n",
    "\n",
    "class Vectors(VectorScene):\n",
    "    def construct(self):\n",
    "        self.add_plane(animate = True).add_coordinates()\n",
    "        self.wait()\n",
    "        \n",
    "        v1 = Vector([1, 2], color=YELLOW)\n",
    "        v1_label = MathTex(\"\\\\vec{v_1}\").next_to(v1, LEFT, buff = 0.0001)\n",
    "        gr = VGroup(v1, v1_label)\n",
    "\n",
    "        self.add_vector(v1)\n",
    "        self.play(Create(v1_label))\n",
    "        self.wait()\n",
    "\n",
    "        self.play(\n",
    "          gr.animate.shift(2*RIGHT + 1*UP),\n",
    "        )\n",
    "        self.wait()"
   ]
  },
  {
   "cell_type": "markdown",
   "metadata": {},
   "source": [
    "The key point here is that we include two animations within a `self.play()` command, where we moved the vector and its label to the same direction, and at the same time.\n",
    "\n",
    "### 2.2.4 `get_vector` Method\n",
    "Sometimes we may want to get the current coordinate of a vector, then we need the `get_vector` method. This will return a `tuple` of the coordinate of the vector. For instance, in the following example, we will use this method to create a new vector by adding up the other two."
   ]
  },
  {
   "cell_type": "code",
   "execution_count": null,
   "metadata": {},
   "outputs": [],
   "source": [
    "%%manim -qm Vectors\n",
    "\n",
    "class Vectors(VectorScene):\n",
    "    def construct(self):\n",
    "        self.add_plane(animate = True).add_coordinates()\n",
    "        self.wait()\n",
    "        \n",
    "        v1 = Vector([1, 2], color=YELLOW)\n",
    "        v2 = Vector([3, -1], color=RED)\n",
    "        v3 = Vector([v1.get_vector()[0] + v2.get_vector()[0], v1.get_vector()[1] + v2.get_vector()[1]], color=BLUE) \n",
    "        \n",
    "        self.add_vector(v1)\n",
    "        self.label_vector(v1, '\\\\vec{v_1}')\n",
    "        self.add_vector(v2)\n",
    "        self.label_vector(v2, '\\\\vec{v_2}')\n",
    "        self.wait()\n",
    "        self.add_vector(v3)\n",
    "        self.wait()\n",
    "        self.label_vector(v3, '\\\\vec{v_1} + \\\\vec{v_2}')\n",
    "        self.wait()"
   ]
  },
  {
   "cell_type": "markdown",
   "metadata": {},
   "source": [
    "Since the `get_vector` method returns a tuple (index started from 0), then, as an example, the x-coordinate of v1 should be `v1.get_vector()[0]`, and the y-coordinate of v1 is `v1.get_vector()[1]`. The coordinates of v2 are returned in the similar way. We hence get v3 = v1 + v2, by adding up their x and y-coordinates."
   ]
  },
  {
   "cell_type": "markdown",
   "metadata": {},
   "source": [
    "### 2.2.5 Vector Addition Animation (Try Yourself!)\n",
    "\n",
    "\n",
    "The effect of the animation above is still not so understandable to beginners, as we all know that we were tought vector addition using `triangule rule` or `parallelogram rule`. With the techniques we learnt above, it is natural to think of create an animation of `vector addition`. Before we dig into the codes, it is always good to make a strategy. Our plan will be as follows:\n",
    "1. Defining three vectors, where v3 is the resultant vector of v1+v2.\n",
    "2. Creating v1 and v2 on the scene, and labeling them with $\\vec{v_1}$ and $\\vec{v_2}$.\n",
    "3. Translating v1 so that its tail touches with v2's head.\n",
    "4. Creating the resulting vector v3, and labeling it with $\\vec{v_1} + \\vec{v_2}$.\n",
    "\n",
    "It will be boring if we simply showing you the code, since it is a good chance for you to test whether you have handled all the skills you learnt, which include:\n",
    "1. Defining vectors.\n",
    "2. Labelling vectors by definning a separate `MathTex` Mobject.\n",
    "3. Translating vectors using `animate.shift`, and moving the labels with the vectors.\n",
    "4. Getting the coordinate of the vectors using `get_vector`.\n",
    "\n",
    "The overall structure of the code is given below, we left several blocks for you to fill in. Please try yourselves to complete this 2D-animation on your own!"
   ]
  },
  {
   "cell_type": "code",
   "execution_count": null,
   "metadata": {},
   "outputs": [],
   "source": [
    "%%manim -qm Vectors\n",
    "\n",
    "class Vectors(VectorScene):\n",
    "    def construct(self):\n",
    "        self.add_plane(animate = True).add_coordinates()\n",
    "        self.wait()\n",
    "        \n",
    "        v1 = Vector([1, 2], color=YELLOW)\n",
    "        v2 = Vector([3, -1], color=RED)\n",
    "        # Block 1\n",
    "        v3 = Vector() # Hint: recall how we defined v3 in the example introducing get_vector \n",
    "        \n",
    "        # Block 2~4\n",
    "        v1_label = MathTex(\"\\\\vec{v_1}\").next_to()\n",
    "        v2_label = MathTex(\"\\\\vec{v_2}\").next_to()\n",
    "        v3_label = MathTex(\"\\\\vec{v_1} + \\\\vec{v_2}\").next_to()\n",
    "        # make the labels next to their vectors, and give appropriate colors and buffs to them\n",
    "\n",
    "        self.add_vector(v1)\n",
    "        self.play(Create(v1_label))\n",
    "        self.wait()\n",
    "\n",
    "        self.add_vector(v2)\n",
    "        self.play(Create(v2_label))\n",
    "        self.wait()\n",
    "        \n",
    "        # Block 5~6\n",
    "        self.play(\n",
    "          v1.animate.shift( ),\n",
    "          v1_label.animate.shift( )\n",
    "        )\n",
    "        # Hint: following the triangle rule, if we want to connect v1's tail with v2's head,\n",
    "        # we are actually translating v1's tail to v2's head's coordinate\n",
    "        # x-coordinate -> RIGHT, y-coordinate -> UP\n",
    "        self.wait()\n",
    "\n",
    "        self.add_vector(v3)\n",
    "        self.wait()\n",
    "        self.play(Create(v3_label))\n",
    "        self.wait()"
   ]
  },
  {
   "cell_type": "markdown",
   "metadata": {},
   "source": [
    "## 2.3 Function Graphs\n",
    "### 2.3.1 Axes\n",
    "Function graphs is another popular topic in 2D animations. In this 2D scene, two main elements matter:\n",
    "1. The function's expression,\n",
    "2. The axes.\n",
    "Though we have already learnt how to draw a coordinate system to the scene using `add_plane().add_coordinate()`, this time we have to define it separately. The reason behind this is that when we try to draw function graphs, we have to draw it on the axes. \n",
    "\n",
    "We use `lambda` to define the function expression (recall what we have learnt in section 2.1). Then we need to define the axes, which is done by the `Axes` class. Note that `Axes` class includes lots of arguments, but currently we only need to pay attention to a couple of them, like the ranges, and the configurations of the axes."
   ]
  },
  {
   "cell_type": "code",
   "execution_count": null,
   "metadata": {},
   "outputs": [],
   "source": [
    "%%manim -qm functiongraph\n",
    "\n",
    "class functiongraph(Scene):\n",
    "    def construct(self):\n",
    "        # Create axes\n",
    "        axes = Axes(\n",
    "            x_range=[-3,3,1],\n",
    "            y_range=[-2, 2, 1],\n",
    "            axis_config={\"color\": BLUE},\n",
    "            x_axis_config={\n",
    "                \"numbers_to_include\": [-3,-2,-1,0,1,2,3],\n",
    "            },\n",
    "            y_axis_config={\n",
    "                \"numbers_to_include\": [-2, -1, 0, 1, 2],\n",
    "            }\n",
    "        )\n",
    "        axes_labels = axes.get_axis_labels()\n",
    "\n",
    "        self.play(Create(axes), Write(axes_labels))\n",
    "        self.wait()"
   ]
  },
  {
   "cell_type": "markdown",
   "metadata": {},
   "source": [
    "We will go through these arguments one by one.\n",
    "1. `x_range` and `y_range`: [minimum, maximum, step size]\n",
    "2. `axis_config`: \"color\": indicate color\n",
    "3. `x_axis_config` and `y_axis_config`: \"numbers_to_include\": [numbers you want to label on the axis in ascending order]\n",
    "4. `axes_labels = axes.get_axis_labels`\n",
    "\n",
    "### 2.3.2 Plotting Function Graphs and `Numpy`\n",
    "Now we are ready to plot functions to the axes. The stratedy is:\n",
    "1. Define the function expression using `lamba`,\n",
    "2. Define another variable (eg. `graph`) to store the function graph by using the `axes.plot()` method,\n",
    "3. Finally, use `Create` method to draw the funtion graph.\n",
    "\n",
    "Note that we may want to label the expression of the function graph, the method exactly same as labeling the vectors. You can review the method 1 in section 2.2.3. The following is an example of draw a function graph with its label."
   ]
  },
  {
   "cell_type": "code",
   "execution_count": null,
   "metadata": {},
   "outputs": [],
   "source": [
    "%%manim -qm functiongraph\n",
    "\n",
    "class functiongraph(Scene):\n",
    "    def construct(self):\n",
    "        func = lambda x: x**2 -1\n",
    "        func_label = MathTex(\"f(x) = x^2 - 1\")\n",
    "        # Create axes\n",
    "        axes = Axes(\n",
    "            x_range=[-3,3,1],\n",
    "            y_range=[-2, 2, 1],\n",
    "            axis_config={\"color\": BLUE},\n",
    "            x_axis_config={\n",
    "                \"numbers_to_include\": [-3,-2,-1,0,1,2,3],\n",
    "            },\n",
    "            y_axis_config={\n",
    "                \"numbers_to_include\": [-2, -1, 0, 1, 2],\n",
    "            }\n",
    "        )\n",
    "        axes_labels = axes.get_axis_labels()\n",
    "\n",
    "        # Define the function graph by plotting the function on the axes\n",
    "        graph = axes.plot(func)\n",
    "\n",
    "        func_label.shift(DOWN*2 + LEFT*2)\n",
    "        # Draw the axes and function\n",
    "        self.play(Create(axes), Write(axes_labels))\n",
    "        self.play(Create(graph), Write(func_label), run_time=3)\n",
    "        self.wait()"
   ]
  },
  {
   "cell_type": "markdown",
   "metadata": {},
   "source": [
    "It is clear that we can change the function graphs to illustrate the process of function transformation. For instance, when we apply absolute value to varaible x and to the function f(x), the function graph will reflect differently. Note that in pyhton, the taking absolute value command is `abs()`.\n",
    "\n",
    "To transform a Mobject to another, we can use the `Transform()` method, which is used in the following form,\n",
    "```py\n",
    "Transform(Mobject, Target Mobject)\n",
    "```\n",
    "where the `Mobject` will be replaced by the `Target Mobject`."
   ]
  },
  {
   "cell_type": "code",
   "execution_count": null,
   "metadata": {},
   "outputs": [],
   "source": [
    "%%manim -qm functiongraph\n",
    "\n",
    "class functiongraph(Scene):\n",
    "    def construct(self):\n",
    "        func1 = lambda x: x**2 - 1\n",
    "        func2 = lambda x: abs(x**2 - 1)\n",
    "        func1_label = MathTex(\"f(x) = x^2 - 1\")\n",
    "        func2_label = MathTex(\"f(x) = |x^2 - 1|\")\n",
    "\n",
    "        axes = Axes(\n",
    "            x_range=[-3,3,1],\n",
    "            y_range=[-2, 2, 1],\n",
    "            axis_config={\"color\": BLUE},\n",
    "            x_axis_config={\n",
    "                \"numbers_to_include\": [-3,-2,-1,0,1,2,3],\n",
    "            },\n",
    "            y_axis_config={\n",
    "                \"numbers_to_include\": [-2, -1, 0, 1, 2],\n",
    "            }\n",
    "        )\n",
    "        axes_labels = axes.get_axis_labels()\n",
    "\n",
    "        graph1 = axes.plot(func1)\n",
    "        graph2 = axes.plot(func2)\n",
    "\n",
    "        # Locate both labels at the same position\n",
    "        func1_label.shift(DOWN*2 + LEFT*2)\n",
    "        func2_label.shift(DOWN*2 + LEFT*2)\n",
    "\n",
    "        self.play(Create(axes), Write(axes_labels))\n",
    "        self.play(Create(graph1), Write(func1_label), run_time=3)\n",
    "        self.wait()\n",
    "        #Transform the graphs and labels\n",
    "        self.play(Transform(graph1, graph2), Transform(func1_label, func2_label)) \n",
    "        self.wait()"
   ]
  },
  {
   "cell_type": "markdown",
   "metadata": {},
   "source": [
    "Let us go a bit further. Don't you think the label transformation is a bit too ... ordinary? Recall what we have learnt in Chap1, about the `TransformByGlyphMap()` method. It is extremely suitable for our function transformation scene. Remember we have to import the package before we use the method."
   ]
  },
  {
   "cell_type": "code",
   "execution_count": null,
   "metadata": {},
   "outputs": [],
   "source": [
    "from GlyphMapDemo import *"
   ]
  },
  {
   "cell_type": "markdown",
   "metadata": {},
   "source": [
    "Now we can change the transformation method of the function labels."
   ]
  },
  {
   "cell_type": "code",
   "execution_count": null,
   "metadata": {},
   "outputs": [],
   "source": [
    "%%manim -qm functiongraph\n",
    "\n",
    "class functiongraph(Scene):\n",
    "    def construct(self):\n",
    "        func1 = lambda x: x**2 - 1\n",
    "        func2 = lambda x: abs(x**2 - 1)\n",
    "        func1_label = MathTex(\"f(x) = x^2 - 1\")\n",
    "        func2_label = MathTex(\"f(x) = |x^2 - 1|\")\n",
    "\n",
    "        axes = Axes(\n",
    "            x_range=[-3,3,1],\n",
    "            y_range=[-2, 2, 1],\n",
    "            axis_config={\"color\": BLUE},\n",
    "            x_axis_config={\n",
    "                \"numbers_to_include\": [-3,-2,-1,0,1,2,3],\n",
    "            },\n",
    "            y_axis_config={\n",
    "                \"numbers_to_include\": [-2, -1, 0, 1, 2],\n",
    "            }\n",
    "        )\n",
    "        axes_labels = axes.get_axis_labels()\n",
    "\n",
    "        graph1 = axes.plot(func1)\n",
    "        graph2 = axes.plot(func2)\n",
    "\n",
    "        func1_label.shift(DOWN*2 + LEFT*2)\n",
    "        func2_label.shift(DOWN*2 + LEFT*2)\n",
    "\n",
    "        self.play(Create(axes), Write(axes_labels))\n",
    "        self.play(Create(graph1), Write(func1_label), run_time=3)\n",
    "        self.wait()\n",
    "\n",
    "        self.play(\n",
    "            Transform(graph1, graph2),\n",
    "            TransformByGlyphMap(func1_label, func2_label,\n",
    "                ([],[5,10]),\n",
    "            )\n",
    "            ) \n",
    "        self.wait()"
   ]
  },
  {
   "cell_type": "markdown",
   "metadata": {},
   "source": [
    " Exercise: Take some time to review what we have learnt in this section and in Chap1, and fill in the blanks in the following code. The skeleton is given to you.\n",
    " \n",
    "The goal is to create an animation that illustrates the transformation process of function $x^2 - 2x + 1$ by applying absolute value on $x$."
   ]
  },
  {
   "cell_type": "code",
   "execution_count": null,
   "metadata": {},
   "outputs": [],
   "source": [
    "%%manim -qm functiongraph\n",
    "\n",
    "class functiongraph(Scene):\n",
    "    def construct(self):\n",
    "        func1 = lambda x: # Blank1\n",
    "        func2 = lambda x: # Blank2\n",
    "        func1_label = MathTex(\"f(x) = x^2 - 2x + 1\")\n",
    "        func2_label = MathTex(\"f(x) = |x|^2 - 2|x| + 1\")\n",
    "\n",
    "        axes = Axes(\n",
    "            x_range=[-3, 3, 1],\n",
    "            y_range=[-2, 2, 1],\n",
    "            axis_config={\"color\": BLUE},\n",
    "            x_axis_config={\n",
    "                \"numbers_to_include\": [-3,-2,-1,0,1,2,3],\n",
    "            },\n",
    "            y_axis_config={\n",
    "                \"numbers_to_include\": [-2, -1, 0, 1, 2],\n",
    "            }\n",
    "        )\n",
    "        axes_labels = axes.get_axis_labels()\n",
    "\n",
    "        graph1 = # Blank3\n",
    "        graph2 = # Blank4\n",
    "\n",
    "        func1_label.shift(DOWN*2 + RIGHT*3)\n",
    "        func2_label.shift(DOWN*2 + RIGHT*3)\n",
    "\n",
    "        self.play(Create(axes), Write(axes_labels))\n",
    "        self.play(Create(graph1), Write(func1_label), run_time=3)\n",
    "        self.wait()\n",
    "\n",
    "        self.play(\n",
    "            Transform(graph1, graph2),\n",
    "            TransformByGlyphMap(func1_label, func2_label,\n",
    "                ([],[]), # Blank5\n",
    "            )\n",
    "            ) \n",
    "        self.wait()"
   ]
  },
  {
   "cell_type": "markdown",
   "metadata": {},
   "source": [
    "Note that if you want to set some special functions (eg. trignometric functions), normally you need to import the `numpy` module to quote these functions by running the following code."
   ]
  },
  {
   "cell_type": "code",
   "execution_count": null,
   "metadata": {},
   "outputs": [],
   "source": [
    "import numpy as np"
   ]
  },
  {
   "cell_type": "markdown",
   "metadata": {},
   "source": [
    "But luckily, manim has already include this module within the library, so it is not necessary to import it again. The format of calling the `numpy` module is\n",
    "```\n",
    "np.argument\n",
    "```\n",
    "For example, calling $sin$ function is\n",
    "```py\n",
    "np.sin(x)\n",
    "```\n",
    "ans calling $\\pi$ is\n",
    "```py\n",
    "np.pi\n",
    "```\n",
    "The following example shows how to plot a sine wave. Note that when dealing with trignometric functions, don't forget to change the labels on the axes."
   ]
  },
  {
   "cell_type": "code",
   "execution_count": null,
   "metadata": {},
   "outputs": [],
   "source": [
    "%%manim -qm functiongraph\n",
    "\n",
    "class functiongraph(Scene):\n",
    "    def construct(self):\n",
    "        func = lambda x: np.sin(x)\n",
    "        func_label = MathTex(\"f(x) = \\\\sin{x}\")\n",
    "        # Create axes\n",
    "        axes = Axes(\n",
    "            x_range=[-np.pi,3 * np.pi, np.pi / 2],\n",
    "            y_range=[-2, 2, 1], # Though sin(x) only takes value in [-1,1], it is better to leave some room for the labels.\n",
    "            axis_config={\"color\": BLUE},\n",
    "            y_axis_config={\n",
    "                \"numbers_to_include\": [-1, 0, 1],\n",
    "            }\n",
    "        )\n",
    "        axes_labels = axes.get_axis_labels()\n",
    "\n",
    "        # Remark: it seems that manim does not support including MathTex objects on the axes,\n",
    "        # if we want to label pi, we have to create them seperately as follows.\n",
    "        pos1 = axes.x_axis.n2p(-1*PI)\n",
    "        line1 = Line(.1*DOWN,.1*UP).move_to(pos1)\n",
    "        lbl1 = MathTex(\"-\\\\pi\").scale(0.7).next_to(line1, DOWN)\n",
    "        axes.add(line1, lbl1)\n",
    "\n",
    "        pos2 = axes.x_axis.n2p(0)\n",
    "        line2 = Line(.1*DOWN,.1*UP).move_to(pos2)\n",
    "        lbl2 = MathTex(\"0\").scale(0.7).next_to(line2, DOWN)\n",
    "        axes.add(line2, lbl2)\n",
    "\n",
    "        pos3 = axes.x_axis.n2p(PI)\n",
    "        line3 = Line(.1*DOWN,.1*UP).move_to(pos3)\n",
    "        lbl3 = MathTex(\"\\\\pi\").scale(0.7).next_to(line3, DOWN)\n",
    "        axes.add(line3, lbl3)\n",
    "        \n",
    "        for i in range(2, 5):\n",
    "            tick_pos = axes.x_axis.n2p(i * PI)\n",
    "            tick_line = Line(.1*DOWN, .1*UP).move_to(tick_pos)\n",
    "            lbl = MathTex(str(i) + r\"\\pi\").scale(0.7).next_to(tick_line, DOWN)\n",
    "            axes.add(tick_line, lbl)\n",
    "\n",
    "        graph = axes.plot(func)\n",
    "        func_label.to_edge(UP)\n",
    "        self.play(Create(axes), Write(axes_labels))\n",
    "        self.play(Create(graph), Write(func_label), run_time=3)\n",
    "        self.wait()"
   ]
  }
 ],
 "metadata": {
  "kernelspec": {
   "display_name": "base",
   "language": "python",
   "name": "python3"
  },
  "language_info": {
   "codemirror_mode": {
    "name": "ipython",
    "version": 3
   },
   "file_extension": ".py",
   "mimetype": "text/x-python",
   "name": "python",
   "nbconvert_exporter": "python",
   "pygments_lexer": "ipython3",
   "version": "3.9.13"
  }
 },
 "nbformat": 4,
 "nbformat_minor": 2
}
