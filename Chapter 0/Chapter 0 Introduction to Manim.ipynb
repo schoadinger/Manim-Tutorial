{
 "cells": [
  {
   "cell_type": "markdown",
   "metadata": {},
   "source": [
    "# Manim: making math visible"
   ]
  },
  {
   "cell_type": "markdown",
   "metadata": {},
   "source": [
    "# Lab: Introduction"
   ]
  },
  {
   "cell_type": "markdown",
   "metadata": {},
   "source": [
    "Manim is a powerful engine to produce cool animations that illustrate mathematical concepts in a visualized way. This tutorial is aiming to help you get familiar with Manim quickly.\n",
    "To run this lab, you will need three things:\n",
    "* An installation of `Python3`, which is the specific version of `Python` used in this lab.\n",
    "* An installation of `ManimCE`, the community edit version of `Manim`. \n",
    "* Access to `Jupyter`, a popular python interface that runs code through a file called a notebook."
   ]
  },
  {
   "cell_type": "markdown",
   "metadata": {},
   "source": [
    "Installation details of `ManimCE` can be found in https://www.manim.community/.\n",
    "\n",
    "There are a number of ways to get access to `Jupyter`. Here are just a few:\n",
    "* Using Google’s `Colaboratory` service: colab.research.google.com/.\n",
    "* Using `JupyterHub`, available at jupyter.org/hub.\n",
    "* Using your own `jupyter` installation. Installation instructions are\n",
    "available at jupyter.org/install."
   ]
  },
  {
   "cell_type": "markdown",
   "metadata": {},
   "source": [
    "To test that whether you have make all the installations properly, run the code below."
   ]
  },
  {
   "cell_type": "code",
   "execution_count": null,
   "metadata": {},
   "outputs": [],
   "source": [
    "from manim import *"
   ]
  },
  {
   "cell_type": "markdown",
   "metadata": {},
   "source": [
    "A successful output should be a message printing the installed version of the Manim library."
   ]
  },
  {
   "cell_type": "markdown",
   "metadata": {},
   "source": [
    "# Hello World!"
   ]
  },
  {
   "cell_type": "markdown",
   "metadata": {},
   "source": [
    "We finally come to our openning ceremony. Run the code below."
   ]
  },
  {
   "cell_type": "code",
   "execution_count": null,
   "metadata": {},
   "outputs": [],
   "source": [
    "%%manim -qm HelloWorld\n",
    "\n",
    "class HelloWorld(Scene):\n",
    "    def construct(self):\n",
    "        text_1 = Text('Hello, Manim World!', font_size=80)\n",
    "        self.play(Write(text_1), run_time=4)"
   ]
  },
  {
   "cell_type": "markdown",
   "metadata": {},
   "source": [
    "If you can see a video that produce the text 'Hello World!' in the middle, congradulations! You have created your first scene. Though simple, it contains some important information. We will go through it step by step. First,\n",
    "```py\n",
    "    class HelloWorld(Scene):\n",
    "        def construct(self):\n",
    "```\n",
    "Here we define a new Manim scene named `HelloWorld`, and define the `construct` method which acts as the scheme of the video. We describe what we want to render in the scene in the content of `construct`.\n",
    "```py\n",
    "text_1 = Text('Hello, Manim World!', font_size=80)\n",
    "```\n",
    "In Manim, we called those _Mathematical Objects that can be displayed on the screen_ as `Mobjects`. Here we create a `Text` Moject named `text_1`. It is worth mentioning that Manim provides powerful _text animation_ tools, which we will try more later. Here we set the font size of the text to be 80, which can be changed by your own preference.\n",
    "```py\n",
    "self.play(Write(text_1), run_time=4)\n",
    "```\n",
    "This is where we finally produce something on our scene. `self.play` is an important command in manim, as everytime we want to render something on the scene, we use `self.play` to do so. In this case, since we want produce a `Text` object on the scene, we use the `Write` method. The second argument `run_time` is the time duration of the animation. Choose this properly can make the pace of your video more comfortable to the audience."
   ]
  },
  {
   "cell_type": "markdown",
   "metadata": {},
   "source": [
    "Now, let us produce our first `2D graph` scene with the code below."
   ]
  },
  {
   "cell_type": "code",
   "execution_count": null,
   "metadata": {},
   "outputs": [],
   "source": [
    "%%manim -qm SquareToCircle\n",
    "\n",
    "class SquareToCircle(Scene):\n",
    "   def construct(self):\n",
    "      square = Square()\n",
    "      circle = Circle()\n",
    "      circle.set_fill(PINK, opacity=0.5)\n",
    "      self.play(Create(square))\n",
    "      self.wait() # which is same as self.wait(1)\n",
    "      self.play(Transform(square, circle))\n",
    "      self.wait()"
   ]
  },
  {
   "cell_type": "markdown",
   "metadata": {},
   "source": [
    "This time you have witnessed another important Manim technique, that is to transfrom one `Mobject` to another.\n",
    "```py\n",
    "    square = Square()\n",
    "    circle = Circle()\n",
    "    circle.set_fill(PINK, opacity=0.5)\n",
    "```\n",
    "In these two lines, we create two Mobjects, a `Square` Mobject(with default parameter) and a `Circle` Mobject where we initialize it with a fill `color` and `opacity`. Now we are going to add them into the scene.\n",
    "```py\n",
    "    self.play(Create(square))\n",
    "    self.play(Transform(square, circle))\n",
    "    self.wait()\n",
    "```\n",
    "Here we used the `Create` method, which draws the `Square` Mobject(not simply makes it appear) in the scene. There are several methods to create a Mobject in the scene, for instance, `FadeIn`, and `DrawBorderThenFill`, you can try them out.\n",
    "Then we used the `Transform` method to transform it into the `Circle` Mobject we created, then pause the animation for one second(by default) and finishes the animation."
   ]
  },
  {
   "cell_type": "markdown",
   "metadata": {},
   "source": [
    "What we can do with manim is far beyond that. Next, we will build our first `3D graph` scene."
   ]
  },
  {
   "cell_type": "code",
   "execution_count": null,
   "metadata": {},
   "outputs": [],
   "source": [
    "%%manim -qm Rotation3DExample\n",
    "\n",
    "class Rotation3DExample(ThreeDScene):\n",
    "    def construct(self):\n",
    "        cube = Cube(side_length=3, fill_opacity=1)\n",
    "\n",
    "        self.begin_ambient_camera_rotation(rate=0.3)\n",
    "\n",
    "        self.set_camera_orientation(phi= 45 * DEGREES, theta= 45 * DEGREES)\n",
    "        # phi is the vertical angle, and theta is the horizontal angle\n",
    "\n",
    "        self.play(Write(cube), run_time=2)\n",
    "\n",
    "        self.wait(3)\n",
    "\n",
    "        self.play(Unwrite(cube), run_time=2)\n"
   ]
  },
  {
   "cell_type": "markdown",
   "metadata": {},
   "source": [
    "We create a `Cube` Mobject using the following code. This time, instead of using the default parameters, we set the `side_length` and `fill_capacity` for the `Cube` Mobject.\n",
    "```py\n",
    "    cube = Cube(side_length=3, fill_opacity=1)\n",
    "```\n",
    "It is always a good exercise to try out different combinations of parameters to see what happens, so we can get a better understanding of the Mobjects. Note that you can check the parameters for any specific `Mobject` by typing `?` before the name of the Mobject."
   ]
  },
  {
   "cell_type": "code",
   "execution_count": null,
   "metadata": {},
   "outputs": [],
   "source": [
    "?Cube"
   ]
  },
  {
   "cell_type": "markdown",
   "metadata": {},
   "source": [
    "`Camera` plays an extremely important role in 3D animation. Just like we need our eyes to see the world, we need a camera in appropriate position and angle to observe the 3D scene.\n",
    "```py\n",
    "    self.begin_ambient_camera_rotation(rate=0.3)\n",
    "    self.set_camera_orientation(phi= 45 * DEGREES, theta= 45 * DEGREES)\n",
    "```\n",
    "The lines above are used to control the rotation speed and angles of the camera. The `phi` controls the vertical viewing angle, and the `theta` controls the horizontal viewing angle. You can try out different values of angle to see how you version change."
   ]
  },
  {
   "cell_type": "markdown",
   "metadata": {},
   "source": [
    "Up to now, you have already seen the three main types of animations you can create with Manim: `text animations`, `2D animations`, and `3D animations`. In the following tutorials, we will introduce them in more detail, starting from introducing basic Mobjects, to how to operate them using different methods, and how to create your own animations.\n",
    "\n",
    "Note that `Manim` is updating quickly, which means new commands will be invented while the old ones may be erased. Therefore, the ultimate goal for this tutorial series is not explaining every single command to you, but helping you building basic techniques of animation production, and you should be able to dig deeper according to your needs by reading through the official library."
   ]
  }
 ],
 "metadata": {
  "kernelspec": {
   "display_name": "Python 3",
   "language": "python",
   "name": "python3"
  },
  "language_info": {
   "codemirror_mode": {
    "name": "ipython",
    "version": 3
   },
   "file_extension": ".py",
   "mimetype": "text/x-python",
   "name": "python",
   "nbconvert_exporter": "python",
   "pygments_lexer": "ipython3",
   "version": "3.9.13"
  }
 },
 "nbformat": 4,
 "nbformat_minor": 2
}
